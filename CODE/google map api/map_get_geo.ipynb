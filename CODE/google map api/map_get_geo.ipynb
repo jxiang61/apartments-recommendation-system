{
 "cells": [
  {
   "cell_type": "code",
   "execution_count": 38,
   "metadata": {},
   "outputs": [],
   "source": [
    "import json \n",
    "from urllib.request import urlopen, quote\n",
    "import requests,csv\n",
    "import pandas as pd\n",
    "import googlemaps"
   ]
  },
  {
   "cell_type": "code",
   "execution_count": 43,
   "metadata": {
    "scrolled": false
   },
   "outputs": [
    {
     "data": {
      "text/html": [
       "<div>\n",
       "<style scoped>\n",
       "    .dataframe tbody tr th:only-of-type {\n",
       "        vertical-align: middle;\n",
       "    }\n",
       "\n",
       "    .dataframe tbody tr th {\n",
       "        vertical-align: top;\n",
       "    }\n",
       "\n",
       "    .dataframe thead th {\n",
       "        text-align: right;\n",
       "    }\n",
       "</style>\n",
       "<table border=\"1\" class=\"dataframe\">\n",
       "  <thead>\n",
       "    <tr style=\"text-align: right;\">\n",
       "      <th></th>\n",
       "      <th>Address</th>\n",
       "      <th>Price</th>\n",
       "      <th>livingArea</th>\n",
       "      <th>bedrooms</th>\n",
       "      <th>bathroom</th>\n",
       "    </tr>\n",
       "  </thead>\n",
       "  <tbody>\n",
       "    <tr>\n",
       "      <td>0</td>\n",
       "      <td>['5642 Windwood Rd']</td>\n",
       "      <td>['950']</td>\n",
       "      <td>['627', '627', '\\\\\"627 sqft\\\\\"', '1254', 'null...</td>\n",
       "      <td>['3', '3', '3', '3', '2', '2', '2', '2', '2', ...</td>\n",
       "      <td>['2.5', '2.5', '3', '3', '3', '3', '2.5', '2.5...</td>\n",
       "    </tr>\n",
       "    <tr>\n",
       "      <td>1</td>\n",
       "      <td>['8229 Queens Dr']</td>\n",
       "      <td>['1475']</td>\n",
       "      <td>['1939', '1939', '\\\\\"1', '1318', '1352', '1488...</td>\n",
       "      <td>['3', '3', '3', '3', '3', '3', '4', '3', '3', ...</td>\n",
       "      <td>['1.5', '1.5', '2', '2', '2', '2', '1.5', '1',...</td>\n",
       "    </tr>\n",
       "    <tr>\n",
       "      <td>2</td>\n",
       "      <td>['318 Cheryl Ct']</td>\n",
       "      <td>['1245']</td>\n",
       "      <td>['1352', '1352', '\\\\\"1', '1488', '1318', '1352...</td>\n",
       "      <td>['3', '3', '3', '3', '3', '3', '3', '3', '3', ...</td>\n",
       "      <td>['2', '2', '2', '2', '2', '2', '2.5', '2', '2'...</td>\n",
       "    </tr>\n",
       "    <tr>\n",
       "      <td>3</td>\n",
       "      <td>['2516 Fairview Ln']</td>\n",
       "      <td>['1499']</td>\n",
       "      <td>['2340', '2340', '\\\\\"2', '3760', '2950', '2236...</td>\n",
       "      <td>['4', '4', '4', '4', '4', '4', '4', '4', '3', ...</td>\n",
       "      <td>['2.5', '2.5', '3', '2', '3', '3', '3', '2.5',...</td>\n",
       "    </tr>\n",
       "    <tr>\n",
       "      <td>4</td>\n",
       "      <td>['6548 Laurel Ln']</td>\n",
       "      <td>['1050']</td>\n",
       "      <td>['1670', '1670', '\\\\\"1', '1372', '1734', '1682...</td>\n",
       "      <td>['3', '3', '3', '3', '3', '3', '3', '4', '4', ...</td>\n",
       "      <td>['2', '2', '2', '2', '2', '2', '2', '2', '2.5'...</td>\n",
       "    </tr>\n",
       "  </tbody>\n",
       "</table>\n",
       "</div>"
      ],
      "text/plain": [
       "                Address     Price  \\\n",
       "0  ['5642 Windwood Rd']   ['950']   \n",
       "1    ['8229 Queens Dr']  ['1475']   \n",
       "2     ['318 Cheryl Ct']  ['1245']   \n",
       "3  ['2516 Fairview Ln']  ['1499']   \n",
       "4    ['6548 Laurel Ln']  ['1050']   \n",
       "\n",
       "                                          livingArea  \\\n",
       "0  ['627', '627', '\\\\\"627 sqft\\\\\"', '1254', 'null...   \n",
       "1  ['1939', '1939', '\\\\\"1', '1318', '1352', '1488...   \n",
       "2  ['1352', '1352', '\\\\\"1', '1488', '1318', '1352...   \n",
       "3  ['2340', '2340', '\\\\\"2', '3760', '2950', '2236...   \n",
       "4  ['1670', '1670', '\\\\\"1', '1372', '1734', '1682...   \n",
       "\n",
       "                                            bedrooms  \\\n",
       "0  ['3', '3', '3', '3', '2', '2', '2', '2', '2', ...   \n",
       "1  ['3', '3', '3', '3', '3', '3', '4', '3', '3', ...   \n",
       "2  ['3', '3', '3', '3', '3', '3', '3', '3', '3', ...   \n",
       "3  ['4', '4', '4', '4', '4', '4', '4', '4', '3', ...   \n",
       "4  ['3', '3', '3', '3', '3', '3', '3', '4', '4', ...   \n",
       "\n",
       "                                            bathroom  \n",
       "0  ['2.5', '2.5', '3', '3', '3', '3', '2.5', '2.5...  \n",
       "1  ['1.5', '1.5', '2', '2', '2', '2', '1.5', '1',...  \n",
       "2  ['2', '2', '2', '2', '2', '2', '2.5', '2', '2'...  \n",
       "3  ['2.5', '2.5', '3', '2', '3', '3', '3', '2.5',...  \n",
       "4  ['2', '2', '2', '2', '2', '2', '2', '2', '2.5'...  "
      ]
     },
     "execution_count": 43,
     "metadata": {},
     "output_type": "execute_result"
    }
   ],
   "source": [
    "data=pd.read_csv('house_info_cleanedall.csv')\n",
    "data.head()"
   ]
  },
  {
   "cell_type": "code",
   "execution_count": 44,
   "metadata": {
    "scrolled": true
   },
   "outputs": [
    {
     "data": {
      "text/html": [
       "<div>\n",
       "<style scoped>\n",
       "    .dataframe tbody tr th:only-of-type {\n",
       "        vertical-align: middle;\n",
       "    }\n",
       "\n",
       "    .dataframe tbody tr th {\n",
       "        vertical-align: top;\n",
       "    }\n",
       "\n",
       "    .dataframe thead th {\n",
       "        text-align: right;\n",
       "    }\n",
       "</style>\n",
       "<table border=\"1\" class=\"dataframe\">\n",
       "  <thead>\n",
       "    <tr style=\"text-align: right;\">\n",
       "      <th></th>\n",
       "      <th>Address</th>\n",
       "      <th>Price</th>\n",
       "      <th>livingArea</th>\n",
       "      <th>bedrooms</th>\n",
       "      <th>bathroom</th>\n",
       "    </tr>\n",
       "  </thead>\n",
       "  <tbody>\n",
       "    <tr>\n",
       "      <td>0</td>\n",
       "      <td>5642 Windwood Rd, Atlanta, GA</td>\n",
       "      <td>['950']</td>\n",
       "      <td>['627', '627', '\\\\\"627 sqft\\\\\"', '1254', 'null...</td>\n",
       "      <td>['3', '3', '3', '3', '2', '2', '2', '2', '2', ...</td>\n",
       "      <td>['2.5', '2.5', '3', '3', '3', '3', '2.5', '2.5...</td>\n",
       "    </tr>\n",
       "    <tr>\n",
       "      <td>1</td>\n",
       "      <td>8229 Queens Dr, Atlanta, GA</td>\n",
       "      <td>['1475']</td>\n",
       "      <td>['1939', '1939', '\\\\\"1', '1318', '1352', '1488...</td>\n",
       "      <td>['3', '3', '3', '3', '3', '3', '4', '3', '3', ...</td>\n",
       "      <td>['1.5', '1.5', '2', '2', '2', '2', '1.5', '1',...</td>\n",
       "    </tr>\n",
       "    <tr>\n",
       "      <td>2</td>\n",
       "      <td>318 Cheryl Ct, Atlanta, GA</td>\n",
       "      <td>['1245']</td>\n",
       "      <td>['1352', '1352', '\\\\\"1', '1488', '1318', '1352...</td>\n",
       "      <td>['3', '3', '3', '3', '3', '3', '3', '3', '3', ...</td>\n",
       "      <td>['2', '2', '2', '2', '2', '2', '2.5', '2', '2'...</td>\n",
       "    </tr>\n",
       "    <tr>\n",
       "      <td>3</td>\n",
       "      <td>2516 Fairview Ln, Atlanta, GA</td>\n",
       "      <td>['1499']</td>\n",
       "      <td>['2340', '2340', '\\\\\"2', '3760', '2950', '2236...</td>\n",
       "      <td>['4', '4', '4', '4', '4', '4', '4', '4', '3', ...</td>\n",
       "      <td>['2.5', '2.5', '3', '2', '3', '3', '3', '2.5',...</td>\n",
       "    </tr>\n",
       "    <tr>\n",
       "      <td>4</td>\n",
       "      <td>6548 Laurel Ln, Atlanta, GA</td>\n",
       "      <td>['1050']</td>\n",
       "      <td>['1670', '1670', '\\\\\"1', '1372', '1734', '1682...</td>\n",
       "      <td>['3', '3', '3', '3', '3', '3', '3', '4', '4', ...</td>\n",
       "      <td>['2', '2', '2', '2', '2', '2', '2', '2', '2.5'...</td>\n",
       "    </tr>\n",
       "  </tbody>\n",
       "</table>\n",
       "</div>"
      ],
      "text/plain": [
       "                         Address     Price  \\\n",
       "0  5642 Windwood Rd, Atlanta, GA   ['950']   \n",
       "1    8229 Queens Dr, Atlanta, GA  ['1475']   \n",
       "2     318 Cheryl Ct, Atlanta, GA  ['1245']   \n",
       "3  2516 Fairview Ln, Atlanta, GA  ['1499']   \n",
       "4    6548 Laurel Ln, Atlanta, GA  ['1050']   \n",
       "\n",
       "                                          livingArea  \\\n",
       "0  ['627', '627', '\\\\\"627 sqft\\\\\"', '1254', 'null...   \n",
       "1  ['1939', '1939', '\\\\\"1', '1318', '1352', '1488...   \n",
       "2  ['1352', '1352', '\\\\\"1', '1488', '1318', '1352...   \n",
       "3  ['2340', '2340', '\\\\\"2', '3760', '2950', '2236...   \n",
       "4  ['1670', '1670', '\\\\\"1', '1372', '1734', '1682...   \n",
       "\n",
       "                                            bedrooms  \\\n",
       "0  ['3', '3', '3', '3', '2', '2', '2', '2', '2', ...   \n",
       "1  ['3', '3', '3', '3', '3', '3', '4', '3', '3', ...   \n",
       "2  ['3', '3', '3', '3', '3', '3', '3', '3', '3', ...   \n",
       "3  ['4', '4', '4', '4', '4', '4', '4', '4', '3', ...   \n",
       "4  ['3', '3', '3', '3', '3', '3', '3', '4', '4', ...   \n",
       "\n",
       "                                            bathroom  \n",
       "0  ['2.5', '2.5', '3', '3', '3', '3', '2.5', '2.5...  \n",
       "1  ['1.5', '1.5', '2', '2', '2', '2', '1.5', '1',...  \n",
       "2  ['2', '2', '2', '2', '2', '2', '2.5', '2', '2'...  \n",
       "3  ['2.5', '2.5', '3', '2', '3', '3', '3', '2.5',...  \n",
       "4  ['2', '2', '2', '2', '2', '2', '2', '2', '2.5'...  "
      ]
     },
     "execution_count": 44,
     "metadata": {},
     "output_type": "execute_result"
    }
   ],
   "source": [
    "data['Address'] = [address.strip('[]')[:-1][1:]+', Atlanta, GA' for address in data['Address']]\n",
    "data.head()"
   ]
  },
  {
   "cell_type": "code",
   "execution_count": null,
   "metadata": {},
   "outputs": [],
   "source": []
  },
  {
   "cell_type": "code",
   "execution_count": 48,
   "metadata": {},
   "outputs": [
    {
     "data": {
      "text/plain": [
       "[{'long_name': '8229', 'short_name': '8229', 'types': ['street_number']},\n",
       " {'long_name': 'Queens Drive', 'short_name': 'Queens Dr', 'types': ['route']},\n",
       " {'long_name': 'Jonesboro',\n",
       "  'short_name': 'Jonesboro',\n",
       "  'types': ['locality', 'political']},\n",
       " {'long_name': 'Clayton County',\n",
       "  'short_name': 'Clayton County',\n",
       "  'types': ['administrative_area_level_2', 'political']},\n",
       " {'long_name': 'Georgia',\n",
       "  'short_name': 'GA',\n",
       "  'types': ['administrative_area_level_1', 'political']},\n",
       " {'long_name': 'United States',\n",
       "  'short_name': 'US',\n",
       "  'types': ['country', 'political']},\n",
       " {'long_name': '30238', 'short_name': '30238', 'types': ['postal_code']},\n",
       " {'long_name': '2946', 'short_name': '2946', 'types': ['postal_code_suffix']}]"
      ]
     },
     "execution_count": 48,
     "metadata": {},
     "output_type": "execute_result"
    }
   ],
   "source": [
    "gm=googlemaps.Client(key=api_key)\n",
    "geocode_result=gm.geocode('8229 Queens Dr, Atlanta, GA')[0]\n",
    "\n",
    "geocode_result['address_components']\n",
    "\n",
    "# for i in geocode_result['address_components']:\n",
    "#     if 'County' in i['long_name']:\n",
    "#         county = i['long_name']\n",
    "#         break\n",
    "# geocode_result['address_components']\n"
   ]
  },
  {
   "cell_type": "code",
   "execution_count": 49,
   "metadata": {},
   "outputs": [],
   "source": [
    "api_key=\"your google map api\"\n",
    "def get_geocode(address):\n",
    "    gm=googlemaps.Client(key=api_key)\n",
    "    try:\n",
    "        geocode_result=gm.geocode(address)[0]\n",
    "        county=''\n",
    "        lat=''\n",
    "        lng=''\n",
    "        for i in geocode_result['address_components']:\n",
    "            if 'County' in i['long_name']:\n",
    "                county = i['long_name']\n",
    "                break\n",
    "        lat=geocode_result['geometry']['location']['lat']\n",
    "        lng=geocode_result['geometry']['location']['lng']\n",
    "    except: print(address +\" Error\")\n",
    "    return lat,lng, county"
   ]
  },
  {
   "cell_type": "code",
   "execution_count": 51,
   "metadata": {
    "scrolled": true
   },
   "outputs": [
    {
     "name": "stdout",
     "output_type": "stream",
     "text": [
      "count:  100\n",
      "count:  200\n",
      "count:  300\n",
      "count:  400\n",
      "count:  500\n",
      "count:  600\n",
      "count:  700\n",
      "count:  800\n",
      "count:  900\n",
      "count:  1000\n",
      "count:  1100\n",
      "count:  1200\n",
      "count:  1300\n",
      "count:  1400\n",
      "count:  1500\n",
      "count:  1600\n"
     ]
    }
   ],
   "source": [
    "address_geo_info={}\n",
    "address_set = list(set(data['Address']))\n",
    "count=0\n",
    "for address in address_set:\n",
    "    count+= 1\n",
    "    if address == '2112 November Glen Dr NW, Atlanta, GA':\n",
    "        address='2112 November Glen Dr NW'\n",
    "    lat,lng, county = get_geocode(address)\n",
    "    if address=='2112 November Glen Dr NW':\n",
    "        address = '2112 November Glen Dr NW, Atlanta, GA'\n",
    "    address_geo_info[address]=(lat, lng, county)\n",
    "    if count%100 == 0:\n",
    "        print('count: ', count)"
   ]
  },
  {
   "cell_type": "code",
   "execution_count": 52,
   "metadata": {
    "scrolled": true
   },
   "outputs": [],
   "source": [
    "lat=[]\n",
    "lng=[]\n",
    "countys=[]\n",
    "for add in data['Address']:\n",
    "    lat.append(address_geo_info[add][0])\n",
    "    lng.append(address_geo_info[add][1])\n",
    "    countys.append(address_geo_info[add][2])\n",
    "data['latitute']=lat\n",
    "data['longitute']=lng\n",
    "data['county']=countys"
   ]
  },
  {
   "cell_type": "code",
   "execution_count": 53,
   "metadata": {},
   "outputs": [],
   "source": [
    "data.to_csv('output2.csv', header=None, index=False)"
   ]
  },
  {
   "cell_type": "code",
   "execution_count": null,
   "metadata": {},
   "outputs": [],
   "source": []
  }
 ],
 "metadata": {
  "kernelspec": {
   "display_name": "Python 3",
   "language": "python",
   "name": "python3"
  },
  "language_info": {
   "codemirror_mode": {
    "name": "ipython",
    "version": 3
   },
   "file_extension": ".py",
   "mimetype": "text/x-python",
   "name": "python",
   "nbconvert_exporter": "python",
   "pygments_lexer": "ipython3",
   "version": "3.7.4"
  }
 },
 "nbformat": 4,
 "nbformat_minor": 2
}
